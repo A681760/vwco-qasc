{
 "cells": [
  {
   "cell_type": "code",
   "execution_count": 1,
   "metadata": {},
   "outputs": [],
   "source": [
    "import pandas as pd\n",
    "import datetime\n",
    "from pathlib import Path"
   ]
  },
  {
   "cell_type": "code",
   "execution_count": 2,
   "metadata": {},
   "outputs": [
    {
     "data": {
      "text/html": [
       "<div>\n",
       "<style scoped>\n",
       "    .dataframe tbody tr th:only-of-type {\n",
       "        vertical-align: middle;\n",
       "    }\n",
       "\n",
       "    .dataframe tbody tr th {\n",
       "        vertical-align: top;\n",
       "    }\n",
       "\n",
       "    .dataframe thead th {\n",
       "        text-align: right;\n",
       "    }\n",
       "</style>\n",
       "<table border=\"1\" class=\"dataframe\">\n",
       "  <thead>\n",
       "    <tr style=\"text-align: right;\">\n",
       "      <th></th>\n",
       "      <th>timestamp [UTC]</th>\n",
       "      <th>id</th>\n",
       "      <th>Telefone</th>\n",
       "    </tr>\n",
       "  </thead>\n",
       "  <tbody>\n",
       "    <tr>\n",
       "      <th>0</th>\n",
       "      <td>11/29/2024, 5:50:07.503 PM</td>\n",
       "      <td>373065</td>\n",
       "      <td>5593991844848</td>\n",
       "    </tr>\n",
       "    <tr>\n",
       "      <th>1</th>\n",
       "      <td>11/29/2024, 5:50:06.523 PM</td>\n",
       "      <td>373064</td>\n",
       "      <td>5566996318589</td>\n",
       "    </tr>\n",
       "  </tbody>\n",
       "</table>\n",
       "</div>"
      ],
      "text/plain": [
       "              timestamp [UTC]      id       Telefone\n",
       "0  11/29/2024, 5:50:07.503 PM  373065  5593991844848\n",
       "1  11/29/2024, 5:50:06.523 PM  373064  5566996318589"
      ]
     },
     "execution_count": 2,
     "metadata": {},
     "output_type": "execute_result"
    }
   ],
   "source": [
    "basepath = Path('C:/Users/a681760/OneDrive - ATOS/Projetos/VWCO/dataset').absolute()\n",
    "inputfile =  f'{basepath}/entrada/QASC_contatosNovembro.csv'\n",
    "\n",
    "try:\n",
    "    report_df = pd.read_csv(inputfile, lineterminator='\\n',dtype=str)\n",
    "except Exception as e:\n",
    "    print(e)\n",
    "\n",
    "report_df = report_df.map(lambda x: x.strip() if isinstance(x, str) else x)\n",
    "report_df.rename(columns={'customDimensions_Telefone\\r': 'Telefone'}, inplace=True)\n",
    "\n",
    "report_df.head(2)"
   ]
  },
  {
   "cell_type": "code",
   "execution_count": 3,
   "metadata": {},
   "outputs": [
    {
     "data": {
      "text/html": [
       "<div>\n",
       "<style scoped>\n",
       "    .dataframe tbody tr th:only-of-type {\n",
       "        vertical-align: middle;\n",
       "    }\n",
       "\n",
       "    .dataframe tbody tr th {\n",
       "        vertical-align: top;\n",
       "    }\n",
       "\n",
       "    .dataframe thead th {\n",
       "        text-align: right;\n",
       "    }\n",
       "</style>\n",
       "<table border=\"1\" class=\"dataframe\">\n",
       "  <thead>\n",
       "    <tr style=\"text-align: right;\">\n",
       "      <th></th>\n",
       "      <th>Data</th>\n",
       "      <th>Telefone</th>\n",
       "    </tr>\n",
       "  </thead>\n",
       "  <tbody>\n",
       "    <tr>\n",
       "      <th>0</th>\n",
       "      <td>29/11/2024</td>\n",
       "      <td>5593991844848</td>\n",
       "    </tr>\n",
       "    <tr>\n",
       "      <th>1</th>\n",
       "      <td>29/11/2024</td>\n",
       "      <td>5566996318589</td>\n",
       "    </tr>\n",
       "  </tbody>\n",
       "</table>\n",
       "</div>"
      ],
      "text/plain": [
       "         Data       Telefone\n",
       "0  29/11/2024  5593991844848\n",
       "1  29/11/2024  5566996318589"
      ]
     },
     "execution_count": 3,
     "metadata": {},
     "output_type": "execute_result"
    }
   ],
   "source": [
    "report_df['timestamp'] = pd.to_datetime(report_df['timestamp [UTC]'], format='%m/%d/%Y, %I:%M:%S.%f %p')\n",
    "report_df['timestamp-br'] = report_df['timestamp']\n",
    "\n",
    "if \"timestamp [UTC]\" in report_df.columns :\n",
    "    del report_df['timestamp [UTC]'] \n",
    "\n",
    "if 'timestamp' in report_df.columns :\n",
    "    del report_df['timestamp'] \n",
    "\n",
    "if 'id'in report_df.columns :\n",
    "    del report_df['id']\n",
    "\n",
    "if 'timestamp-br' in report_df.columns :\n",
    "    report_df['Data']  = pd.to_datetime(report_df['timestamp-br'], format='%m/%d/%Y')\n",
    "    report_df['Data'] = report_df['Data'].dt.strftime('%d/%m/%Y')\n",
    "    del report_df['timestamp-br'] \n",
    "\n",
    "nova_ordem = [ 'Data', 'Telefone']\n",
    "report_df= report_df[nova_ordem]\n",
    "\n",
    "report_df.head(2)\n"
   ]
  },
  {
   "cell_type": "code",
   "execution_count": 4,
   "metadata": {},
   "outputs": [],
   "source": [
    "outpath = f'{basepath}/saida/QASCs_'+str(datetime.datetime.now().strftime('%d-%m-%Y'))+'.xlsx'\n",
    "report_df.to_excel(outpath, sheet_name=\"Report\", engine='xlsxwriter', index=False)"
   ]
  }
 ],
 "metadata": {
  "kernelspec": {
   "display_name": "env",
   "language": "python",
   "name": "python3"
  },
  "language_info": {
   "codemirror_mode": {
    "name": "ipython",
    "version": 3
   },
   "file_extension": ".py",
   "mimetype": "text/x-python",
   "name": "python",
   "nbconvert_exporter": "python",
   "pygments_lexer": "ipython3",
   "version": "3.12.4"
  }
 },
 "nbformat": 4,
 "nbformat_minor": 2
}
